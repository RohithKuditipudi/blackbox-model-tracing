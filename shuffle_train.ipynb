{
 "cells": [
  {
   "cell_type": "code",
   "execution_count": 3,
   "id": "decb1f8d-ab8d-4526-b3a8-0019f60f7fd9",
   "metadata": {},
   "outputs": [
    {
     "data": {
      "text/plain": [
       "'/juice4/u/rohithk/blackbox-model-tracing'"
      ]
     },
     "execution_count": 3,
     "metadata": {},
     "output_type": "execute_result"
    }
   ],
   "source": [
    "import json\n",
    "import matplotlib.pyplot as plt\n",
    "import numpy as np\n",
    "import pandas as pd\n",
    "import scipy\n",
    "\n",
    "import os\n",
    "os.getcwd()"
   ]
  },
  {
   "cell_type": "code",
   "execution_count": 6,
   "id": "fc57855c-c93c-4f50-8829-f62758d6d71d",
   "metadata": {},
   "outputs": [],
   "source": [
    "INDEX = 300\n",
    "path = f'./train_references/debug/tinystories_refmodels_{INDEX}.csv'\n",
    "df = pd.read_csv(path)"
   ]
  },
  {
   "cell_type": "code",
   "execution_count": 7,
   "id": "806af40e-aaee-41df-8220-642c6a23562f",
   "metadata": {},
   "outputs": [
    {
     "data": {
      "text/html": [
       "<div>\n",
       "<style scoped>\n",
       "    .dataframe tbody tr th:only-of-type {\n",
       "        vertical-align: middle;\n",
       "    }\n",
       "\n",
       "    .dataframe tbody tr th {\n",
       "        vertical-align: top;\n",
       "    }\n",
       "\n",
       "    .dataframe thead th {\n",
       "        text-align: right;\n",
       "    }\n",
       "</style>\n",
       "<table border=\"1\" class=\"dataframe\">\n",
       "  <thead>\n",
       "    <tr style=\"text-align: right;\">\n",
       "      <th></th>\n",
       "      <th>Unnamed: 0</th>\n",
       "      <th>order-0</th>\n",
       "      <th>pplx-0</th>\n",
       "      <th>order-1</th>\n",
       "      <th>pplx-1</th>\n",
       "      <th>order-2</th>\n",
       "      <th>pplx-2</th>\n",
       "      <th>order-3</th>\n",
       "      <th>pplx-3</th>\n",
       "    </tr>\n",
       "  </thead>\n",
       "  <tbody>\n",
       "    <tr>\n",
       "      <th>0</th>\n",
       "      <td>0</td>\n",
       "      <td>2865</td>\n",
       "      <td>4.563487</td>\n",
       "      <td>1223</td>\n",
       "      <td>4.513329</td>\n",
       "      <td>8448</td>\n",
       "      <td>4.547101</td>\n",
       "      <td>9164</td>\n",
       "      <td>4.550434</td>\n",
       "    </tr>\n",
       "    <tr>\n",
       "      <th>1</th>\n",
       "      <td>1</td>\n",
       "      <td>7769</td>\n",
       "      <td>3.345121</td>\n",
       "      <td>7334</td>\n",
       "      <td>3.339600</td>\n",
       "      <td>3381</td>\n",
       "      <td>3.268568</td>\n",
       "      <td>3651</td>\n",
       "      <td>3.308793</td>\n",
       "    </tr>\n",
       "    <tr>\n",
       "      <th>2</th>\n",
       "      <td>2</td>\n",
       "      <td>139</td>\n",
       "      <td>3.347345</td>\n",
       "      <td>5078</td>\n",
       "      <td>3.339522</td>\n",
       "      <td>4256</td>\n",
       "      <td>3.291104</td>\n",
       "      <td>5580</td>\n",
       "      <td>3.324549</td>\n",
       "    </tr>\n",
       "    <tr>\n",
       "      <th>3</th>\n",
       "      <td>3</td>\n",
       "      <td>7713</td>\n",
       "      <td>4.858164</td>\n",
       "      <td>4139</td>\n",
       "      <td>4.927142</td>\n",
       "      <td>8592</td>\n",
       "      <td>4.869021</td>\n",
       "      <td>5811</td>\n",
       "      <td>4.917889</td>\n",
       "    </tr>\n",
       "    <tr>\n",
       "      <th>4</th>\n",
       "      <td>4</td>\n",
       "      <td>7996</td>\n",
       "      <td>4.331749</td>\n",
       "      <td>4706</td>\n",
       "      <td>4.362077</td>\n",
       "      <td>6614</td>\n",
       "      <td>4.364691</td>\n",
       "      <td>939</td>\n",
       "      <td>4.384235</td>\n",
       "    </tr>\n",
       "    <tr>\n",
       "      <th>...</th>\n",
       "      <td>...</td>\n",
       "      <td>...</td>\n",
       "      <td>...</td>\n",
       "      <td>...</td>\n",
       "      <td>...</td>\n",
       "      <td>...</td>\n",
       "      <td>...</td>\n",
       "      <td>...</td>\n",
       "      <td>...</td>\n",
       "    </tr>\n",
       "    <tr>\n",
       "      <th>9995</th>\n",
       "      <td>9995</td>\n",
       "      <td>7434</td>\n",
       "      <td>3.986917</td>\n",
       "      <td>7731</td>\n",
       "      <td>3.999887</td>\n",
       "      <td>6660</td>\n",
       "      <td>4.072888</td>\n",
       "      <td>2860</td>\n",
       "      <td>4.086923</td>\n",
       "    </tr>\n",
       "    <tr>\n",
       "      <th>9996</th>\n",
       "      <td>9996</td>\n",
       "      <td>5276</td>\n",
       "      <td>5.100501</td>\n",
       "      <td>5472</td>\n",
       "      <td>5.116537</td>\n",
       "      <td>1186</td>\n",
       "      <td>5.158606</td>\n",
       "      <td>7820</td>\n",
       "      <td>5.181477</td>\n",
       "    </tr>\n",
       "    <tr>\n",
       "      <th>9997</th>\n",
       "      <td>9997</td>\n",
       "      <td>8694</td>\n",
       "      <td>3.821386</td>\n",
       "      <td>269</td>\n",
       "      <td>3.824111</td>\n",
       "      <td>4340</td>\n",
       "      <td>3.795390</td>\n",
       "      <td>1799</td>\n",
       "      <td>3.798841</td>\n",
       "    </tr>\n",
       "    <tr>\n",
       "      <th>9998</th>\n",
       "      <td>9998</td>\n",
       "      <td>1322</td>\n",
       "      <td>3.904923</td>\n",
       "      <td>5871</td>\n",
       "      <td>4.072634</td>\n",
       "      <td>3748</td>\n",
       "      <td>4.056252</td>\n",
       "      <td>4829</td>\n",
       "      <td>3.893296</td>\n",
       "    </tr>\n",
       "    <tr>\n",
       "      <th>9999</th>\n",
       "      <td>9999</td>\n",
       "      <td>2322</td>\n",
       "      <td>4.397053</td>\n",
       "      <td>1822</td>\n",
       "      <td>4.383273</td>\n",
       "      <td>5304</td>\n",
       "      <td>4.421504</td>\n",
       "      <td>9466</td>\n",
       "      <td>4.391260</td>\n",
       "    </tr>\n",
       "  </tbody>\n",
       "</table>\n",
       "<p>10000 rows × 9 columns</p>\n",
       "</div>"
      ],
      "text/plain": [
       "      Unnamed: 0  order-0    pplx-0  order-1    pplx-1  order-2    pplx-2  \\\n",
       "0              0     2865  4.563487     1223  4.513329     8448  4.547101   \n",
       "1              1     7769  3.345121     7334  3.339600     3381  3.268568   \n",
       "2              2      139  3.347345     5078  3.339522     4256  3.291104   \n",
       "3              3     7713  4.858164     4139  4.927142     8592  4.869021   \n",
       "4              4     7996  4.331749     4706  4.362077     6614  4.364691   \n",
       "...          ...      ...       ...      ...       ...      ...       ...   \n",
       "9995        9995     7434  3.986917     7731  3.999887     6660  4.072888   \n",
       "9996        9996     5276  5.100501     5472  5.116537     1186  5.158606   \n",
       "9997        9997     8694  3.821386      269  3.824111     4340  3.795390   \n",
       "9998        9998     1322  3.904923     5871  4.072634     3748  4.056252   \n",
       "9999        9999     2322  4.397053     1822  4.383273     5304  4.421504   \n",
       "\n",
       "      order-3    pplx-3  \n",
       "0        9164  4.550434  \n",
       "1        3651  3.308793  \n",
       "2        5580  3.324549  \n",
       "3        5811  4.917889  \n",
       "4         939  4.384235  \n",
       "...       ...       ...  \n",
       "9995     2860  4.086923  \n",
       "9996     7820  5.181477  \n",
       "9997     1799  3.798841  \n",
       "9998     4829  3.893296  \n",
       "9999     9466  4.391260  \n",
       "\n",
       "[10000 rows x 9 columns]"
      ]
     },
     "execution_count": 7,
     "metadata": {},
     "output_type": "execute_result"
    }
   ],
   "source": [
    "df"
   ]
  },
  {
   "cell_type": "code",
   "execution_count": 6,
   "id": "a96acb45-2a52-4c9e-98ff-982873c0da69",
   "metadata": {},
   "outputs": [],
   "source": [
    "# Using model 4 as the reference"
   ]
  },
  {
   "cell_type": "code",
   "execution_count": 12,
   "id": "73bf298f-1aff-4744-b453-ab3637d253b1",
   "metadata": {},
   "outputs": [
    {
     "data": {
      "text/plain": [
       "np.float64(9.904190331073836e-53)"
      ]
     },
     "execution_count": 12,
     "metadata": {},
     "output_type": "execute_result"
    }
   ],
   "source": [
    "scipy.stats.spearmanr(np.argsort(df[f'order-{0}'])[:10000], df[f'pplx-{0}'][:10000] - df[f'pplx-{3}'][:10000])[1]"
   ]
  },
  {
   "cell_type": "code",
   "execution_count": 9,
   "id": "b046d1dd",
   "metadata": {},
   "outputs": [
    {
     "data": {
      "text/plain": [
       "np.float64(0.033856071209240765)"
      ]
     },
     "execution_count": 9,
     "metadata": {},
     "output_type": "execute_result"
    }
   ],
   "source": [
    "scipy.stats.spearmanr(np.argsort(df[f'order-{0}'])[:10000], df[f'pplx-{0}'][:10000])[1]"
   ]
  },
  {
   "cell_type": "code",
   "execution_count": 23,
   "id": "a46d8634-21e6-44b4-81f1-adfef425b676",
   "metadata": {},
   "outputs": [
    {
     "name": "stdout",
     "output_type": "stream",
     "text": [
      "0.10433806090957184\n",
      "0.7065278213843637\n",
      "0.5377533115064965\n",
      "0.4275537617653944\n",
      "0.6128127033495724\n",
      "0.071332405594823\n",
      "0.4028065221607594\n",
      "0.7614985774939236\n"
     ]
    }
   ],
   "source": [
    "for i in range(8):\n",
    "    print(scipy.stats.spearmanr(np.arange(10000), df[f'pplx-{0}'][10000*i:10000*(i+1)])[1])"
   ]
  },
  {
   "cell_type": "code",
   "execution_count": 17,
   "id": "0924dc65-d001-41c3-8444-8a3b81a1a118",
   "metadata": {},
   "outputs": [
    {
     "data": {
      "text/plain": [
       "0.0025536674466633442"
      ]
     },
     "execution_count": 17,
     "metadata": {},
     "output_type": "execute_result"
    }
   ],
   "source": [
    "scipy.stats.spearmanr(np.argsort(df[f'order-{0}'])[:10000], df[f'pplx-{0}'][:10000])[1]"
   ]
  },
  {
   "cell_type": "code",
   "execution_count": null,
   "id": "4d5e8e4e-3c6c-418e-aa77-56abdac547ec",
   "metadata": {},
   "outputs": [],
   "source": []
  }
 ],
 "metadata": {
  "kernelspec": {
   "display_name": "Python 3 (ipykernel)",
   "language": "python",
   "name": "python3"
  },
  "language_info": {
   "codemirror_mode": {
    "name": "ipython",
    "version": 3
   },
   "file_extension": ".py",
   "mimetype": "text/x-python",
   "name": "python",
   "nbconvert_exporter": "python",
   "pygments_lexer": "ipython3",
   "version": "3.9.18"
  }
 },
 "nbformat": 4,
 "nbformat_minor": 5
}
