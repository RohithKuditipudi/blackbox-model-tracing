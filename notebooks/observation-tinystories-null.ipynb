{
 "cells": [
  {
   "cell_type": "code",
   "execution_count": 1,
   "id": "e9ec6076",
   "metadata": {},
   "outputs": [
    {
     "name": "stdout",
     "output_type": "stream",
     "text": [
      "INFO 10-03 02:28:07 __init__.py:190] Automatically detected platform cpu.\n"
     ]
    }
   ],
   "source": [
    "import pickle\n",
    "import argparse\n",
    "import itertools\n",
    "\n",
    "import os\n",
    "\n",
    "import numpy as np\n",
    "import matplotlib.pyplot as plt\n",
    "import matplotlib.ticker as ticker\n",
    "import seaborn as sns\n",
    "import scipy\n",
    "\n",
    "import sys\n",
    "sys.path.append('../scripts/observation')\n",
    "\n",
    "import tinystories_null as ts"
   ]
  },
  {
   "cell_type": "code",
   "execution_count": 56,
   "id": "a5980bd7",
   "metadata": {},
   "outputs": [],
   "source": [
    "def z_to_p(z_score):\n",
    "    z_score *= np.sqrt(9/8) * (1/(1+1E-6))\n",
    "    return scipy.stats.norm.sf(z_score)\n",
    "\n",
    "def z_to_logp(z_score):\n",
    "    return np.log10(scipy.stats.norm.sf(z_score))\n",
    "\n",
    "def get_default_args(save_dir):\n",
    "    parser = argparse.ArgumentParser()\n",
    "    \n",
    "    parser.add_argument(\"--save_dir\", type=str, required=True)\n",
    "    parser.add_argument(\"--batch_size\", type=int, default=4)\n",
    "    parser.add_argument(\"--n_partial_0\", type=int, default=0)\n",
    "    parser.add_argument(\"--num_partial_models\", type=int, default=1)\n",
    "    parser.add_argument(\"--n_base\", type=int, default=1)\n",
    "    parser.add_argument(\"--n_finetune\", type=int, default=0)\n",
    "    parser.add_argument(\"--n_sample\", type=int, default=100)\n",
    "    parser.add_argument(\"--temperature\", type=float, default=1.0)\n",
    "    parser.add_argument(\"--seed\", type=int, default=0)\n",
    "    parser.add_argument(\"--shuffle_seed\", type=int, default=0)\n",
    "    parser.add_argument(\"--sampling_seed\", type=int, default=0)\n",
    "    parser.add_argument(\"--num_shuffles\", type=int, default=10)\n",
    "    parser.add_argument(\"--prompt\", type=str, default=None)\n",
    "    parser.add_argument(\"--finetune_on_test\", type=str, default=\"false\")\n",
    "    parser.add_argument(\"--reinit_ft_optimizer\", type=str, default=\"true\")\n",
    "    parser.add_argument(\"--partial_model_index\", type=int, default=0)\n",
    "    parser.add_argument(\"--hidden_size\", type=int, default=256)\n",
    "    parser.add_argument(\"--intermediate_size\", type=int, default=512)\n",
    "    parser.add_argument(\"--num_hidden_layers\", type=int, default=4)\n",
    "    parser.add_argument(\"--num_attention_heads\", type=int, default=8)\n",
    "    parser.add_argument(\"--max_position_embeddings\", type=int, default=512)\n",
    "    parser.add_argument(\"--max_tokens\", type=int, default=32)\n",
    "    parser.add_argument(\"--learning_rate\", type=float, default=1e-5)\n",
    "    parser.add_argument(\"--include_hash\", type=str, default=\"false\")\n",
    "    parser.add_argument(\"--null_model_path\", type=str, default=None)\n",
    "\n",
    "    args = parser.parse_args([\"--save_dir\", save_dir])\n",
    "\n",
    "    return args\n",
    "\n",
    "def set_args(args, args_dict):\n",
    "    for k,v in args_dict.items():\n",
    "        setattr(args, k, v)\n",
    "\n",
    "def get_experiment(experiment_config, new_root='../not-a-test', old_root='./not-a-test'):\n",
    "    args = get_default_args(save_dir=old_root)\n",
    "    set_args(args, experiment_config)\n",
    "    ts.update_experiment_args(args)\n",
    "\n",
    "    old_path = ts.get_experiment_log_path(args)\n",
    "    relative_path = os.path.relpath(old_path, old_root)\n",
    "    new_path = os.path.join(new_root, relative_path)\n",
    "\n",
    "    experiment_result = pickle.load(open(new_path,'rb'))\n",
    "    \n",
    "    return experiment_result\n",
    "    \n",
    "\n",
    "def get_experiment_sweep(\n",
    "    sweep_configs, \n",
    "    new_root='../not-a-test', \n",
    "    old_root='./not-a-test'\n",
    "):\n",
    "    param_names = list(sweep_configs.keys())\n",
    "    param_names.reverse()\n",
    "    param_values = [sweep_configs[name] for name in param_names]\n",
    "    param_combinations = list(itertools.product(*param_values))\n",
    "\n",
    "    experiment_configs = [dict(zip(param_names, params)) for params in param_combinations]\n",
    "\n",
    "    \n",
    "    results = []\n",
    "    for experiment_config in experiment_configs:\n",
    "        experiment_result = get_experiment(experiment_config, new_root, old_root)\n",
    "        results.append(z_to_p(experiment_result[\"z_score\"]))\n",
    "\n",
    "    return results\n",
    "\n",
    "def get_plot(\n",
    "    sweep_configs,\n",
    "    xlabel=\"x\",\n",
    "    ylabel=\"probability that p < x\",\n",
    "    bin_size=0.01,\n",
    "    new_root='../not-a-test', \n",
    "    old_root='./not-a-test',\n",
    "):\n",
    "    \n",
    "    sns.set_theme()\n",
    "    sns.set_palette(\"mako\")\n",
    "    plt.figure() \n",
    "    \n",
    "    results = get_experiment_sweep(sweep_configs, new_root, old_root)\n",
    "    print(min(results))\n",
    "    print(len(results))\n",
    "    xs = np.arange(0, 1+bin_size, bin_size)\n",
    "    ys = [np.mean(results < x) for x in xs]\n",
    "    \n",
    "    plt.scatter(xs, ys)\n",
    "    \n",
    "    plt.xlabel(xlabel); plt.ylabel(ylabel); plt.legend(); plt.tight_layout(); plt.show()\n",
    "\n",
    "def get_colors(k):\n",
    "    return sns.color_palette(\"mako\", n_colors=k)"
   ]
  },
  {
   "cell_type": "code",
   "execution_count": 57,
   "id": "3789ab16",
   "metadata": {},
   "outputs": [
    {
     "name": "stdout",
     "output_type": "stream",
     "text": [
      "0.016984618683972098\n",
      "100\n"
     ]
    },
    {
     "name": "stderr",
     "output_type": "stream",
     "text": [
      "/var/folders/m5/gjt65pg949x17sxgysw53qmh0000gn/T/ipykernel_51588/776028130.py:100: UserWarning: No artists with labels found to put in legend.  Note that artists whose label start with an underscore are ignored when legend() is called with no argument.\n",
      "  plt.xlabel(xlabel); plt.ylabel(ylabel); plt.legend(); plt.tight_layout(); plt.show()\n"
     ]
    },
    {
     "data": {
      "image/png": "[encoded data removed]",
      "text/plain": [
       "<Figure size 640x480 with 1 Axes>"
      ]
     },
     "metadata": {},
     "output_type": "display_data"
    }
   ],
   "source": [
    "sweep_configs = {\n",
    "    \"save_dir\": [\"./not-a-test\"],\n",
    "    \"n_partial_0\": [450000],\n",
    "    \"n_base\": [500000],\n",
    "    \"seed\": [42],\n",
    "    \"num_partial_models\": [5],\n",
    "    \"partial_model_index\": list(range(5)),\n",
    "    \"num_shuffles\": [10],\n",
    "    \"n_sample\": [10],\n",
    "    \"sampling_seed\": list(range(10)),\n",
    "    \"finetune_on_test\": [\"true\", \"false\"],\n",
    "    \"null_model_path\": [\"./null-models/tinystories/default\"],\n",
    "}\n",
    "\n",
    "get_plot(sweep_configs)"
   ]
  },
  {
   "cell_type": "code",
   "execution_count": 46,
   "id": "6345b991",
   "metadata": {},
   "outputs": [
    {
     "data": {
      "text/plain": [
       "0.816496580927726"
      ]
     },
     "execution_count": 46,
     "metadata": {},
     "output_type": "execute_result"
    }
   ],
   "source": [
    "np.std([1,2,3])"
   ]
  },
  {
   "cell_type": "code",
   "execution_count": 50,
   "id": "f9060d24",
   "metadata": {},
   "outputs": [
    {
     "data": {
      "text/plain": [
       "0.9999999999999999"
      ]
     },
     "execution_count": 50,
     "metadata": {},
     "output_type": "execute_result"
    }
   ],
   "source": [
    "np.sqrt(2/3) * np.sqrt(3/2)"
   ]
  },
  {
   "cell_type": "code",
   "execution_count": null,
   "id": "a6704955",
   "metadata": {},
   "outputs": [],
   "source": []
  }
 ],
 "metadata": {
  "kernelspec": {
   "display_name": ".venv",
   "language": "python",
   "name": "python3"
  },
  "language_info": {
   "codemirror_mode": {
    "name": "ipython",
    "version": 3
   },
   "file_extension": ".py",
   "mimetype": "text/x-python",
   "name": "python",
   "nbconvert_exporter": "python",
   "pygments_lexer": "ipython3",
   "version": "3.10.0"
  }
 },
 "nbformat": 4,
 "nbformat_minor": 5
}
