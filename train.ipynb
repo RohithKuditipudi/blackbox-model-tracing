{
 "cells": [
  {
   "cell_type": "code",
   "execution_count": 1,
   "id": "decb1f8d-ab8d-4526-b3a8-0019f60f7fd9",
   "metadata": {},
   "outputs": [
    {
     "name": "stderr",
     "output_type": "stream",
     "text": [
      "/nlp/scr/rohithk/miniconda3/envs/blackbox-model-tracing/lib/python3.10/site-packages/tqdm/auto.py:21: TqdmWarning: IProgress not found. Please update jupyter and ipywidgets. See https://ipywidgets.readthedocs.io/en/stable/user_install.html\n",
      "  from .autonotebook import tqdm as notebook_tqdm\n"
     ]
    }
   ],
   "source": [
    "import matplotlib.pyplot as plt\n",
    "import scipy\n",
    "\n",
    "import torch\n",
    "from torch.utils.data import DataLoader\n",
    "\n",
    "from transformers import AutoTokenizer, LlamaForCausalLM, LlamaConfig\n",
    "from datasets import load_dataset\n",
    "import evaluate\n",
    "\n",
    "import numpy as np\n",
    "import pandas as pd\n",
    "from tqdm import tqdm\n",
    "\n",
    "import os\n",
    "import argparse\n",
    "import json\n",
    "import hashlib\n",
    "import subprocess"
   ]
  },
  {
   "cell_type": "code",
   "execution_count": 2,
   "id": "85c8f2aa",
   "metadata": {},
   "outputs": [],
   "source": [
    "def eval_tiny(model_path, eval_texts):\n",
    "    perplexity = evaluate.load(\"perplexity\", module_type=\"metric\")\n",
    "    result = perplexity.compute(model_id=model_path,\n",
    "                                add_start_token=True,\n",
    "                                predictions=eval_texts)\n",
    "    pplx = np.log(result['perplexities'])\n",
    "\n",
    "    return pplx"
   ]
  },
  {
   "cell_type": "code",
   "execution_count": 3,
   "id": "2dbf8a2f",
   "metadata": {},
   "outputs": [
    {
     "name": "stderr",
     "output_type": "stream",
     "text": [
      "  0%|                                                                         | 0/3125 [00:00<?, ?it/s]We detected that you are passing `past_key_values` as a tuple and this is deprecated and will be removed in v4.43. Please use an appropriate `Cache` class (https://huggingface.co/docs/transformers/v4.41.3/en/internal/generation_utils#transformers.Cache)\n",
      "100%|██████████████████████████████████████████████████████████████| 3125/3125 [06:31<00:00,  7.98it/s]\n",
      "100%|██████████████████████████████████████████████████████████████| 3125/3125 [06:30<00:00,  8.00it/s]\n",
      "100%|██████████████████████████████████████████████████████████████| 3125/3125 [06:30<00:00,  8.00it/s]\n"
     ]
    }
   ],
   "source": [
    "n_train = 50000\n",
    "\n",
    "model_id = 0\n",
    "ctrl_id = 0\n",
    "dist_id = 0\n",
    "\n",
    "order_epoch = 2\n",
    "model_epoch = 2\n",
    "dist_epoch = 2\n",
    "ctrl_epoch = 1\n",
    "\n",
    "# ./train_references/debug/tiny_ref_model_233ff826/epoch-2-index-0'\n",
    "\n",
    "HASH = '233ff826'\n",
    "df_path = f'./train_references/debug/tiny_ref_model_{HASH}/tinystories.csv'\n",
    "model_path = f'./train_references/debug/tiny_ref_model_{HASH}/epoch-{model_epoch}-index-{model_id}'\n",
    "\n",
    "CTRL_HASH = '233ff826'\n",
    "ctrl_model_path = f'./train_references/debug/tiny_ref_model_{CTRL_HASH}/epoch-{ctrl_epoch}-index-{ctrl_id}'\n",
    "\n",
    "DIST_HASH = '2a2a2a26'\n",
    "dist_model_path = f'./distill_references/debug/tiny_dist_model_{DIST_HASH}/epoch-{dist_epoch}-index-{dist_id}'\n",
    "\n",
    "dataset = load_dataset(\"roneneldan/TinyStories\")\n",
    "texts = dataset[\"train\"][\"text\"][:n_train]\n",
    "texts = [item for item in texts if item != \"\"]\n",
    "\n",
    "model_pplx = eval_tiny(model_path,texts)\n",
    "ctrl_pplx = eval_tiny(ctrl_model_path,texts)\n",
    "dist_pplx = eval_tiny(dist_model_path,texts)\n",
    "\n",
    "df = pd.read_csv(df_path)\n",
    "\n",
    "og_stat = scipy.stats.spearmanr(np.argsort(df[f'order-{model_id}-epoch-{order_epoch}']), model_pplx-ctrl_pplx)\n",
    "dist_stat = scipy.stats.spearmanr(np.argsort(df[f'order-{model_id}-epoch-{order_epoch}']), dist_pplx-ctrl_pplx)"
   ]
  },
  {
   "cell_type": "code",
   "execution_count": 4,
   "id": "6279bdfc",
   "metadata": {},
   "outputs": [
    {
     "data": {
      "text/plain": [
       "SignificanceResult(statistic=-0.015105925864951748, pvalue=0.0007315045730134855)"
      ]
     },
     "execution_count": 4,
     "metadata": {},
     "output_type": "execute_result"
    }
   ],
   "source": [
    "dist_stat"
   ]
  },
  {
   "cell_type": "code",
   "execution_count": null,
   "id": "f957f1fd",
   "metadata": {},
   "outputs": [],
   "source": [
    "# for posterity\n",
    "\n",
    "# og_stat = scipy.stats.spearmanr(np.argsort(df[f'order-{model_id}-epoch-{order_epoch}']), df[f'pplx-{model_id}-epoch-{model_epoch}']-df[f'pplx-{control_id}-epoch-{control_epoch}'])\n",
    "# dist_stat = scipy.stats.spearmanr(np.argsort(df[f'order-{model_id}-epoch-{order_epoch}']), dist_pplx-df[f'pplx-{control_id}-epoch-{control_epoch}'])"
   ]
  },
  {
   "cell_type": "code",
   "execution_count": 10,
   "id": "73bf298f-1aff-4744-b453-ab3637d253b1",
   "metadata": {},
   "outputs": [
    {
     "name": "stdout",
     "output_type": "stream",
     "text": [
      "SignificanceResult(statistic=-0.1652056402400564, pvalue=4.025806953374476e-62)\n"
     ]
    }
   ],
   "source": [
    "model_id = 1\n",
    "control_id = 0\n",
    "\n",
    "order_epoch = 2\n",
    "model_epoch = 2\n",
    "\n",
    "stat = scipy.stats.spearmanr(np.argsort(df[f'order-{model_id}-epoch-{order_epoch}'])[:10000], df[f'pplx-{model_id}-epoch-{model_epoch}'][:10000]-df[f'pplx-{control_id}-epoch-{model_epoch}'][:10000])\n",
    "print(stat)"
   ]
  },
  {
   "cell_type": "code",
   "execution_count": 7,
   "id": "4d5e8e4e-3c6c-418e-aa77-56abdac547ec",
   "metadata": {},
   "outputs": [
    {
     "ename": "KeyError",
     "evalue": "'pplx-0-epoch-3'",
     "output_type": "error",
     "traceback": [
      "\u001b[0;31m---------------------------------------------------------------------------\u001b[0m",
      "\u001b[0;31mKeyError\u001b[0m                                  Traceback (most recent call last)",
      "File \u001b[0;32m/nlp/scr/rohithk/miniconda3/lib/python3.9/site-packages/pandas/core/indexes/base.py:3805\u001b[0m, in \u001b[0;36mIndex.get_loc\u001b[0;34m(self, key)\u001b[0m\n\u001b[1;32m   3804\u001b[0m \u001b[38;5;28;01mtry\u001b[39;00m:\n\u001b[0;32m-> 3805\u001b[0m     \u001b[38;5;28;01mreturn\u001b[39;00m \u001b[38;5;28;43mself\u001b[39;49m\u001b[38;5;241;43m.\u001b[39;49m\u001b[43m_engine\u001b[49m\u001b[38;5;241;43m.\u001b[39;49m\u001b[43mget_loc\u001b[49m\u001b[43m(\u001b[49m\u001b[43mcasted_key\u001b[49m\u001b[43m)\u001b[49m\n\u001b[1;32m   3806\u001b[0m \u001b[38;5;28;01mexcept\u001b[39;00m \u001b[38;5;167;01mKeyError\u001b[39;00m \u001b[38;5;28;01mas\u001b[39;00m err:\n",
      "File \u001b[0;32mindex.pyx:167\u001b[0m, in \u001b[0;36mpandas._libs.index.IndexEngine.get_loc\u001b[0;34m()\u001b[0m\n",
      "File \u001b[0;32mindex.pyx:196\u001b[0m, in \u001b[0;36mpandas._libs.index.IndexEngine.get_loc\u001b[0;34m()\u001b[0m\n",
      "File \u001b[0;32mpandas/_libs/hashtable_class_helper.pxi:7081\u001b[0m, in \u001b[0;36mpandas._libs.hashtable.PyObjectHashTable.get_item\u001b[0;34m()\u001b[0m\n",
      "File \u001b[0;32mpandas/_libs/hashtable_class_helper.pxi:7089\u001b[0m, in \u001b[0;36mpandas._libs.hashtable.PyObjectHashTable.get_item\u001b[0;34m()\u001b[0m\n",
      "\u001b[0;31mKeyError\u001b[0m: 'pplx-0-epoch-3'",
      "\nThe above exception was the direct cause of the following exception:\n",
      "\u001b[0;31mKeyError\u001b[0m                                  Traceback (most recent call last)",
      "Cell \u001b[0;32mIn[7], line 22\u001b[0m\n\u001b[1;32m     17\u001b[0m \u001b[38;5;28;01mfor\u001b[39;00m i, oe \u001b[38;5;129;01min\u001b[39;00m \u001b[38;5;28menumerate\u001b[39m(order_epochs):\n\u001b[1;32m     18\u001b[0m     \u001b[38;5;28;01mfor\u001b[39;00m j, me \u001b[38;5;129;01min\u001b[39;00m \u001b[38;5;28menumerate\u001b[39m(model_epochs):\n\u001b[1;32m     19\u001b[0m         \u001b[38;5;66;03m# Spearman returns (correlation, p-value); [1] is the p-value\u001b[39;00m\n\u001b[1;32m     20\u001b[0m         p_val \u001b[38;5;241m=\u001b[39m scipy\u001b[38;5;241m.\u001b[39mstats\u001b[38;5;241m.\u001b[39mspearmanr(\n\u001b[1;32m     21\u001b[0m             np\u001b[38;5;241m.\u001b[39margsort(df[\u001b[38;5;124mf\u001b[39m\u001b[38;5;124m'\u001b[39m\u001b[38;5;124morder-\u001b[39m\u001b[38;5;132;01m{\u001b[39;00mmodel_id\u001b[38;5;132;01m}\u001b[39;00m\u001b[38;5;124m-epoch-\u001b[39m\u001b[38;5;132;01m{\u001b[39;00moe\u001b[38;5;132;01m}\u001b[39;00m\u001b[38;5;124m'\u001b[39m]),\n\u001b[0;32m---> 22\u001b[0m             (\u001b[43mdf\u001b[49m\u001b[43m[\u001b[49m\u001b[38;5;124;43mf\u001b[39;49m\u001b[38;5;124;43m'\u001b[39;49m\u001b[38;5;124;43mpplx-\u001b[39;49m\u001b[38;5;132;43;01m{\u001b[39;49;00m\u001b[43mmodel_id\u001b[49m\u001b[38;5;132;43;01m}\u001b[39;49;00m\u001b[38;5;124;43m-epoch-\u001b[39;49m\u001b[38;5;132;43;01m{\u001b[39;49;00m\u001b[43mme\u001b[49m\u001b[38;5;132;43;01m}\u001b[39;49;00m\u001b[38;5;124;43m'\u001b[39;49m\u001b[43m]\u001b[49m\n\u001b[1;32m     23\u001b[0m              \u001b[38;5;241m-\u001b[39m df[\u001b[38;5;124mf\u001b[39m\u001b[38;5;124m'\u001b[39m\u001b[38;5;124mpplx-\u001b[39m\u001b[38;5;132;01m{\u001b[39;00mcontrol_id\u001b[38;5;132;01m}\u001b[39;00m\u001b[38;5;124m-epoch-\u001b[39m\u001b[38;5;132;01m{\u001b[39;00mme\u001b[38;5;132;01m}\u001b[39;00m\u001b[38;5;124m'\u001b[39m])\n\u001b[1;32m     24\u001b[0m         )[\u001b[38;5;241m1\u001b[39m]\n\u001b[1;32m     25\u001b[0m         heatmap_values[i, j] \u001b[38;5;241m=\u001b[39m \u001b[38;5;28mmax\u001b[39m(np\u001b[38;5;241m.\u001b[39mlog(p_val),\u001b[38;5;241m-\u001b[39m\u001b[38;5;241m5\u001b[39m)\n\u001b[1;32m     27\u001b[0m \u001b[38;5;66;03m# Plot the heatmap\u001b[39;00m\n",
      "File \u001b[0;32m/nlp/scr/rohithk/miniconda3/lib/python3.9/site-packages/pandas/core/frame.py:4102\u001b[0m, in \u001b[0;36mDataFrame.__getitem__\u001b[0;34m(self, key)\u001b[0m\n\u001b[1;32m   4100\u001b[0m \u001b[38;5;28;01mif\u001b[39;00m \u001b[38;5;28mself\u001b[39m\u001b[38;5;241m.\u001b[39mcolumns\u001b[38;5;241m.\u001b[39mnlevels \u001b[38;5;241m>\u001b[39m \u001b[38;5;241m1\u001b[39m:\n\u001b[1;32m   4101\u001b[0m     \u001b[38;5;28;01mreturn\u001b[39;00m \u001b[38;5;28mself\u001b[39m\u001b[38;5;241m.\u001b[39m_getitem_multilevel(key)\n\u001b[0;32m-> 4102\u001b[0m indexer \u001b[38;5;241m=\u001b[39m \u001b[38;5;28;43mself\u001b[39;49m\u001b[38;5;241;43m.\u001b[39;49m\u001b[43mcolumns\u001b[49m\u001b[38;5;241;43m.\u001b[39;49m\u001b[43mget_loc\u001b[49m\u001b[43m(\u001b[49m\u001b[43mkey\u001b[49m\u001b[43m)\u001b[49m\n\u001b[1;32m   4103\u001b[0m \u001b[38;5;28;01mif\u001b[39;00m is_integer(indexer):\n\u001b[1;32m   4104\u001b[0m     indexer \u001b[38;5;241m=\u001b[39m [indexer]\n",
      "File \u001b[0;32m/nlp/scr/rohithk/miniconda3/lib/python3.9/site-packages/pandas/core/indexes/base.py:3812\u001b[0m, in \u001b[0;36mIndex.get_loc\u001b[0;34m(self, key)\u001b[0m\n\u001b[1;32m   3807\u001b[0m     \u001b[38;5;28;01mif\u001b[39;00m \u001b[38;5;28misinstance\u001b[39m(casted_key, \u001b[38;5;28mslice\u001b[39m) \u001b[38;5;129;01mor\u001b[39;00m (\n\u001b[1;32m   3808\u001b[0m         \u001b[38;5;28misinstance\u001b[39m(casted_key, abc\u001b[38;5;241m.\u001b[39mIterable)\n\u001b[1;32m   3809\u001b[0m         \u001b[38;5;129;01mand\u001b[39;00m \u001b[38;5;28many\u001b[39m(\u001b[38;5;28misinstance\u001b[39m(x, \u001b[38;5;28mslice\u001b[39m) \u001b[38;5;28;01mfor\u001b[39;00m x \u001b[38;5;129;01min\u001b[39;00m casted_key)\n\u001b[1;32m   3810\u001b[0m     ):\n\u001b[1;32m   3811\u001b[0m         \u001b[38;5;28;01mraise\u001b[39;00m InvalidIndexError(key)\n\u001b[0;32m-> 3812\u001b[0m     \u001b[38;5;28;01mraise\u001b[39;00m \u001b[38;5;167;01mKeyError\u001b[39;00m(key) \u001b[38;5;28;01mfrom\u001b[39;00m \u001b[38;5;21;01merr\u001b[39;00m\n\u001b[1;32m   3813\u001b[0m \u001b[38;5;28;01mexcept\u001b[39;00m \u001b[38;5;167;01mTypeError\u001b[39;00m:\n\u001b[1;32m   3814\u001b[0m     \u001b[38;5;66;03m# If we have a listlike key, _check_indexing_error will raise\u001b[39;00m\n\u001b[1;32m   3815\u001b[0m     \u001b[38;5;66;03m#  InvalidIndexError. Otherwise we fall through and re-raise\u001b[39;00m\n\u001b[1;32m   3816\u001b[0m     \u001b[38;5;66;03m#  the TypeError.\u001b[39;00m\n\u001b[1;32m   3817\u001b[0m     \u001b[38;5;28mself\u001b[39m\u001b[38;5;241m.\u001b[39m_check_indexing_error(key)\n",
      "\u001b[0;31mKeyError\u001b[0m: 'pplx-0-epoch-3'"
     ]
    }
   ],
   "source": [
    "import numpy as np\n",
    "import pandas as pd\n",
    "import scipy.stats\n",
    "import matplotlib.pyplot as plt\n",
    "\n",
    "model_id = 0\n",
    "control_id = 1\n",
    "\n",
    "# Ranges for order_epoch and model_epoch to loop over\n",
    "order_epochs = list(range(10))   # Adjust as needed\n",
    "model_epochs = list(range(10))   # Adjust as needed\n",
    "\n",
    "# 2D array to store p-values from Spearman correlation\n",
    "heatmap_values = np.zeros((len(order_epochs), len(model_epochs)))\n",
    "\n",
    "# Compute Spearman p-value over each (order_epoch, model_epoch) pair\n",
    "for i, oe in enumerate(order_epochs):\n",
    "    for j, me in enumerate(model_epochs):\n",
    "        # Spearman returns (correlation, p-value); [1] is the p-value\n",
    "        p_val = scipy.stats.spearmanr(\n",
    "            np.argsort(df[f'order-{model_id}-epoch-{oe}']),\n",
    "            (df[f'pplx-{model_id}-epoch-{me}']\n",
    "             - df[f'pplx-{control_id}-epoch-{me}'])\n",
    "        )[1]\n",
    "        heatmap_values[i, j] = max(np.log(p_val),-5)\n",
    "\n",
    "# Plot the heatmap\n",
    "plt.imshow(heatmap_values, cmap='viridis', origin='upper', aspect='auto')\n",
    "plt.colorbar(label='Spearman p-value')\n",
    "plt.xticks(range(len(model_epochs)), model_epochs)\n",
    "plt.yticks(range(len(order_epochs)), order_epochs)\n",
    "plt.xlabel('model_epoch')\n",
    "plt.ylabel('order_epoch')\n",
    "plt.title('Spearman p-values for (order_epoch, model_epoch) pairs')\n",
    "plt.show()"
   ]
  },
  {
   "cell_type": "code",
   "execution_count": null,
   "id": "b092857f",
   "metadata": {},
   "outputs": [],
   "source": []
  }
 ],
 "metadata": {
  "kernelspec": {
   "display_name": "Python [conda env:blackbox-model-tracing]",
   "language": "python",
   "name": "conda-env-blackbox-model-tracing-py"
  },
  "language_info": {
   "codemirror_mode": {
    "name": "ipython",
    "version": 3
   },
   "file_extension": ".py",
   "mimetype": "text/x-python",
   "name": "python",
   "nbconvert_exporter": "python",
   "pygments_lexer": "ipython3",
   "version": "3.10.14"
  }
 },
 "nbformat": 4,
 "nbformat_minor": 5
}
