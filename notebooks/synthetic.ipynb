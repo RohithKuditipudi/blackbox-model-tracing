{
 "cells": [
  {
   "cell_type": "code",
   "execution_count": 1,
   "id": "decb1f8d-ab8d-4526-b3a8-0019f60f7fd9",
   "metadata": {},
   "outputs": [
    {
     "name": "stderr",
     "output_type": "stream",
     "text": [
      "/nlp/scr/rohithk/miniconda3/envs/blackbox-model-tracing/lib/python3.10/site-packages/tqdm/auto.py:21: TqdmWarning: IProgress not found. Please update jupyter and ipywidgets. See https://ipywidgets.readthedocs.io/en/stable/user_install.html\n",
      "  from .autonotebook import tqdm as notebook_tqdm\n"
     ]
    }
   ],
   "source": [
    "import matplotlib.pyplot as plt\n",
    "import scipy\n",
    "\n",
    "import torch\n",
    "from torch.utils.data import DataLoader\n",
    "\n",
    "from transformers import AutoTokenizer, LlamaForCausalLM, LlamaConfig\n",
    "from datasets import load_dataset\n",
    "import evaluate\n",
    "\n",
    "import numpy as np\n",
    "import pandas as pd\n",
    "from tqdm import tqdm\n",
    "\n",
    "import os\n",
    "import argparse\n",
    "import json\n",
    "import hashlib\n",
    "import subprocess"
   ]
  },
  {
   "cell_type": "code",
   "execution_count": 2,
   "id": "85c8f2aa",
   "metadata": {},
   "outputs": [],
   "source": [
    "def eval_tiny(model_path, eval_texts):\n",
    "    perplexity = evaluate.load(\"perplexity\", module_type=\"metric\")\n",
    "    result = perplexity.compute(model_id=model_path,\n",
    "                                add_start_token=True,\n",
    "                                predictions=eval_texts)\n",
    "    pplx = np.log(result['perplexities'])\n",
    "\n",
    "    return pplx"
   ]
  },
  {
   "cell_type": "code",
   "execution_count": 9,
   "id": "4aeaa799",
   "metadata": {},
   "outputs": [],
   "source": [
    "model_id = 1\n",
    "control_id = 0\n",
    "model_epoch = 9\n",
    "\n",
    "synth_id = 0\n",
    "synth_epoch = 0\n",
    "SYNTH_HASH = \"d50a185b\" # \"63f5217d\"\n",
    "\n",
    "MODEL_HASH = 'e4c9c1ac'\n",
    "df_path = f'./kgram-analysis/models/tiny_ref_model_{MODEL_HASH}/tinystories.csv'\n",
    "model_path = f'./kgram-analysis/models/tiny_ref_model_{MODEL_HASH}/epoch-{model_epoch}-index-{model_id}'\n",
    "control_path = f'./kgram-analysis/models/tiny_ref_model_{MODEL_HASH}/epoch-{model_epoch}-index-{control_id}'\n",
    "\n",
    "synth_path = f'./synthetic_references/debug/tiny_synth_model_{SYNTH_HASH}/epoch-{synth_epoch}-index-{synth_id}'\n",
    "\n",
    "N_TRAIN_SAMPLES = 10000"
   ]
  },
  {
   "cell_type": "code",
   "execution_count": 6,
   "id": "1003fb5b",
   "metadata": {},
   "outputs": [
    {
     "name": "stdout",
     "output_type": "stream",
     "text": [
      "./synthetic_references/debug/tiny_synth_model_63f5217d/epoch-1-index-0\n"
     ]
    }
   ],
   "source": [
    "print(synth_path)"
   ]
  },
  {
   "cell_type": "code",
   "execution_count": 4,
   "id": "cb2f95a3",
   "metadata": {},
   "outputs": [],
   "source": [
    "dataset = load_dataset(\"roneneldan/TinyStories\")\n",
    "\n",
    "texts = dataset[\"train\"][\"text\"][:N_TRAIN_SAMPLES]\n",
    "texts = [item for item in texts if item != \"\"]"
   ]
  },
  {
   "cell_type": "code",
   "execution_count": 10,
   "id": "2dbf8a2f",
   "metadata": {},
   "outputs": [
    {
     "name": "stderr",
     "output_type": "stream",
     "text": [
      "100%|████████████████████████████████████████████████████████████████| 625/625 [01:12<00:00,  8.61it/s]\n"
     ]
    },
    {
     "name": "stdout",
     "output_type": "stream",
     "text": [
      "SignificanceResult(statistic=-0.030245459942454603, pvalue=0.002487483471811234)\n",
      "SignificanceResult(statistic=-0.36053128584531285, pvalue=1.107603753391792e-304)\n"
     ]
    }
   ],
   "source": [
    "order_epoch = 0\n",
    "\n",
    "# model_pplx = eval_tiny(model_path,texts)\n",
    "# ctrl_pplx = eval_tiny(control_path,texts)\n",
    "synth_pplx = eval_tiny(synth_path,texts)\n",
    "\n",
    "df = pd.read_csv(df_path)\n",
    "\n",
    "stat = scipy.stats.spearmanr(np.argsort(df[f'order-{model_id}-epoch-{order_epoch}']), synth_pplx-ctrl_pplx)\n",
    "og_stat = scipy.stats.spearmanr(np.argsort(df[f'order-{model_id}-epoch-{order_epoch}']), model_pplx-ctrl_pplx)\n",
    "\n",
    "\n",
    "print(stat)\n",
    "print(og_stat)"
   ]
  },
  {
   "cell_type": "code",
   "execution_count": null,
   "id": "b092857f",
   "metadata": {},
   "outputs": [],
   "source": []
  }
 ],
 "metadata": {
  "kernelspec": {
   "display_name": "Python [conda env:blackbox-model-tracing]",
   "language": "python",
   "name": "conda-env-blackbox-model-tracing-py"
  },
  "language_info": {
   "codemirror_mode": {
    "name": "ipython",
    "version": 3
   },
   "file_extension": ".py",
   "mimetype": "text/x-python",
   "name": "python",
   "nbconvert_exporter": "python",
   "pygments_lexer": "ipython3",
   "version": "3.10.14"
  }
 },
 "nbformat": 4,
 "nbformat_minor": 5
}
